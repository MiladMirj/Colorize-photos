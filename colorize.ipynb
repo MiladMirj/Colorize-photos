{
 "cells": [
  {
   "cell_type": "markdown",
   "metadata": {},
   "source": [
    "## Colorful Image Colorization\n",
    "\n",
    "Richard Zhang, Phillip Isola, Alexei A. Efros\n",
    "\n",
    "year: 2016\n",
    "\n"
   ]
  },
  {
   "cell_type": "markdown",
   "metadata": {},
   "source": [
    "### Importing libraries\n"
   ]
  },
  {
   "cell_type": "code",
   "execution_count": 1,
   "metadata": {},
   "outputs": [],
   "source": [
    "import cv2\n",
    "import numpy as np"
   ]
  },
  {
   "cell_type": "markdown",
   "metadata": {},
   "source": [
    "### Load the model"
   ]
  },
  {
   "cell_type": "code",
   "execution_count": 3,
   "metadata": {},
   "outputs": [],
   "source": [
    "prototxt_path = 'colorization_deploy_v2.prototxt' \n",
    "caffemodel_path = 'colorization_release_v2.caffemodel' # Change accordingly\n",
    "npy_path = 'pts_in_hull.npy' \n",
    "model = cv2.dnn.readNetFromCaffe(prototxt_path, \n",
    "                                caffemodel_path)\n",
    "c_points = np.load(npy_path)\n",
    "c_points = c_points.T.reshape(2, 313, 1, 1).astype('float32')\n",
    "model.getLayer(model.getLayerId('class8_ab')).blobs = [c_points]\n",
    "\n",
    "model.getLayer(model.getLayerId('conv8_313_rh')).blobs = [np.full([1, 313], 2.606, dtype='float32')]"
   ]
  },
  {
   "cell_type": "code",
   "execution_count": 4,
   "metadata": {
    "scrolled": true
   },
   "outputs": [
    {
     "data": {
      "text/plain": [
       "('conv1_1',\n",
       " 'relu1_1',\n",
       " 'conv1_2',\n",
       " 'relu1_2',\n",
       " 'conv1_2norm',\n",
       " 'conv2_1',\n",
       " 'relu2_1',\n",
       " 'conv2_2',\n",
       " 'relu2_2',\n",
       " 'conv2_2norm',\n",
       " 'conv3_1',\n",
       " 'relu3_1',\n",
       " 'conv3_2',\n",
       " 'relu3_2',\n",
       " 'conv3_3',\n",
       " 'relu3_3',\n",
       " 'conv3_3norm',\n",
       " 'conv4_1',\n",
       " 'relu4_1',\n",
       " 'conv4_2',\n",
       " 'relu4_2',\n",
       " 'conv4_3',\n",
       " 'relu4_3',\n",
       " 'conv4_3norm',\n",
       " 'conv5_1',\n",
       " 'relu5_1',\n",
       " 'conv5_2',\n",
       " 'relu5_2',\n",
       " 'conv5_3',\n",
       " 'relu5_3',\n",
       " 'conv5_3norm',\n",
       " 'conv6_1',\n",
       " 'relu6_1',\n",
       " 'conv6_2',\n",
       " 'relu6_2',\n",
       " 'conv6_3',\n",
       " 'relu6_3',\n",
       " 'conv6_3norm',\n",
       " 'conv7_1',\n",
       " 'relu7_1',\n",
       " 'conv7_2',\n",
       " 'relu7_2',\n",
       " 'conv7_3',\n",
       " 'relu7_3',\n",
       " 'conv7_3norm',\n",
       " 'conv8_1',\n",
       " 'relu8_1',\n",
       " 'conv8_2',\n",
       " 'relu8_2',\n",
       " 'conv8_3',\n",
       " 'relu8_3',\n",
       " 'conv8_313',\n",
       " 'conv8_313_rh',\n",
       " 'class8_313_rh',\n",
       " 'class8_ab',\n",
       " 'Silence')"
      ]
     },
     "execution_count": 4,
     "metadata": {},
     "output_type": "execute_result"
    }
   ],
   "source": [
    "model.getLayerNames()"
   ]
  },
  {
   "cell_type": "code",
   "execution_count": 6,
   "metadata": {},
   "outputs": [
    {
     "data": {
      "text/plain": [
       "(array([ 0,  1,  2,  3,  4,  5,  6,  7,  8,  9, 10, 11, 12, 13, 14, 15, 16,\n",
       "        17, 18, 19, 20, 21, 22, 23, 24, 25, 26, 27, 28, 29, 30, 31, 32, 33,\n",
       "        34, 35, 36, 37, 38, 39, 40, 41, 42, 43, 44, 45, 46, 47, 48, 49, 50,\n",
       "        51, 52, 53, 54, 55, 56]),\n",
       " ((array([  1,   1, 224, 224]),),\n",
       "  (array([  1,   1, 224, 224]),),\n",
       "  (array([  1,  64, 224, 224]),),\n",
       "  (array([  1,  64, 224, 224]),),\n",
       "  (array([  1,  64, 112, 112]),),\n",
       "  (array([  1,  64, 112, 112]),),\n",
       "  (array([  1,  64, 112, 112]),),\n",
       "  (array([  1, 128, 112, 112]),),\n",
       "  (array([  1, 128, 112, 112]),),\n",
       "  (array([  1, 128,  56,  56]),),\n",
       "  (array([  1, 128,  56,  56]),),\n",
       "  (array([  1, 128,  56,  56]),),\n",
       "  (array([  1, 256,  56,  56]),),\n",
       "  (array([  1, 256,  56,  56]),),\n",
       "  (array([  1, 256,  56,  56]),),\n",
       "  (array([  1, 256,  56,  56]),),\n",
       "  (array([  1, 256,  28,  28]),),\n",
       "  (array([  1, 256,  28,  28]),),\n",
       "  (array([  1, 256,  28,  28]),),\n",
       "  (array([  1, 512,  28,  28]),),\n",
       "  (array([  1, 512,  28,  28]),),\n",
       "  (array([  1, 512,  28,  28]),),\n",
       "  (array([  1, 512,  28,  28]),),\n",
       "  (array([  1, 512,  28,  28]),),\n",
       "  (array([  1, 512,  28,  28]),),\n",
       "  (array([  1, 512,  28,  28]),),\n",
       "  (array([  1, 512,  28,  28]),),\n",
       "  (array([  1, 512,  28,  28]),),\n",
       "  (array([  1, 512,  28,  28]),),\n",
       "  (array([  1, 512,  28,  28]),),\n",
       "  (array([  1, 512,  28,  28]),),\n",
       "  (array([  1, 512,  28,  28]),),\n",
       "  (array([  1, 512,  28,  28]),),\n",
       "  (array([  1, 512,  28,  28]),),\n",
       "  (array([  1, 512,  28,  28]),),\n",
       "  (array([  1, 512,  28,  28]),),\n",
       "  (array([  1, 512,  28,  28]),),\n",
       "  (array([  1, 512,  28,  28]),),\n",
       "  (array([  1, 512,  28,  28]),),\n",
       "  (array([  1, 512,  28,  28]),),\n",
       "  (array([  1, 512,  28,  28]),),\n",
       "  (array([  1, 512,  28,  28]),),\n",
       "  (array([  1, 512,  28,  28]),),\n",
       "  (array([  1, 512,  28,  28]),),\n",
       "  (array([  1, 512,  28,  28]),),\n",
       "  (array([  1, 512,  28,  28]),),\n",
       "  (array([  1, 512,  28,  28]),),\n",
       "  (array([  1, 256,  56,  56]),),\n",
       "  (array([  1, 256,  56,  56]),),\n",
       "  (array([  1, 256,  56,  56]),),\n",
       "  (array([  1, 256,  56,  56]),),\n",
       "  (array([  1, 256,  56,  56]),),\n",
       "  (array([  1, 256,  56,  56]),),\n",
       "  (array([  1, 313,  56,  56]),),\n",
       "  (array([  1, 313,  56,  56]),),\n",
       "  (array([  1, 313,  56,  56]),),\n",
       "  (array([ 1,  2, 56, 56]),)),\n",
       " ((array([  1,   1, 224, 224]),),\n",
       "  (array([  1,  64, 224, 224]),),\n",
       "  (array([  1,  64, 224, 224]),),\n",
       "  (array([  1,  64, 112, 112]),),\n",
       "  (array([  1,  64, 112, 112]),),\n",
       "  (array([  1,  64, 112, 112]),),\n",
       "  (array([  1, 128, 112, 112]),),\n",
       "  (array([  1, 128, 112, 112]),),\n",
       "  (array([  1, 128,  56,  56]),),\n",
       "  (array([  1, 128,  56,  56]),),\n",
       "  (array([  1, 128,  56,  56]),),\n",
       "  (array([  1, 256,  56,  56]),),\n",
       "  (array([  1, 256,  56,  56]),),\n",
       "  (array([  1, 256,  56,  56]),),\n",
       "  (array([  1, 256,  56,  56]),),\n",
       "  (array([  1, 256,  28,  28]),),\n",
       "  (array([  1, 256,  28,  28]),),\n",
       "  (array([  1, 256,  28,  28]),),\n",
       "  (array([  1, 512,  28,  28]),),\n",
       "  (array([  1, 512,  28,  28]),),\n",
       "  (array([  1, 512,  28,  28]),),\n",
       "  (array([  1, 512,  28,  28]),),\n",
       "  (array([  1, 512,  28,  28]),),\n",
       "  (array([  1, 512,  28,  28]),),\n",
       "  (array([  1, 512,  28,  28]),),\n",
       "  (array([  1, 512,  28,  28]),),\n",
       "  (array([  1, 512,  28,  28]),),\n",
       "  (array([  1, 512,  28,  28]),),\n",
       "  (array([  1, 512,  28,  28]),),\n",
       "  (array([  1, 512,  28,  28]),),\n",
       "  (array([  1, 512,  28,  28]),),\n",
       "  (array([  1, 512,  28,  28]),),\n",
       "  (array([  1, 512,  28,  28]),),\n",
       "  (array([  1, 512,  28,  28]),),\n",
       "  (array([  1, 512,  28,  28]),),\n",
       "  (array([  1, 512,  28,  28]),),\n",
       "  (array([  1, 512,  28,  28]),),\n",
       "  (array([  1, 512,  28,  28]),),\n",
       "  (array([  1, 512,  28,  28]),),\n",
       "  (array([  1, 512,  28,  28]),),\n",
       "  (array([  1, 512,  28,  28]),),\n",
       "  (array([  1, 512,  28,  28]),),\n",
       "  (array([  1, 512,  28,  28]),),\n",
       "  (array([  1, 512,  28,  28]),),\n",
       "  (array([  1, 512,  28,  28]),),\n",
       "  (array([  1, 512,  28,  28]),),\n",
       "  (array([  1, 256,  56,  56]),),\n",
       "  (array([  1, 256,  56,  56]),),\n",
       "  (array([  1, 256,  56,  56]),),\n",
       "  (array([  1, 256,  56,  56]),),\n",
       "  (array([  1, 256,  56,  56]),),\n",
       "  (array([  1, 256,  56,  56]),),\n",
       "  (array([  1, 313,  56,  56]),),\n",
       "  (array([  1, 313,  56,  56]),),\n",
       "  (array([  1, 313,  56,  56]),),\n",
       "  (array([ 1,  2, 56, 56]),),\n",
       "  (array([ 1,  2, 56, 56]),)))"
      ]
     },
     "execution_count": 6,
     "metadata": {},
     "output_type": "execute_result"
    }
   ],
   "source": [
    "model.getLayersShapes((1, 1, 224, 224))\n",
    "# layersIds, inLayersShapes, outLayersShapes"
   ]
  },
  {
   "cell_type": "markdown",
   "metadata": {},
   "source": [
    "### 1-Read an image, 2-Scale it, 3-Convert to Lab, 4-Resize\n",
    "###  5- Pass image to the network, 6- Process the ab channel 7- Display the result"
   ]
  },
  {
   "cell_type": "code",
   "execution_count": 18,
   "metadata": {},
   "outputs": [],
   "source": [
    "cv2.namedWindow('img', cv2.WINDOW_NORMAL)\n",
    "for i in range(1, 7):\n",
    "    img_path = 'a' + str(i) + '.jpg'\n",
    "    img = cv2.imread(img_path)\n",
    "    img_scale = img.astype('float32') / 255\n",
    "    img_lab = cv2.cvtColor(img_scale, cv2.COLOR_BGR2LAB)\n",
    "    L = img_lab[:, :, 0]\n",
    "    model.setInput(cv2.dnn.blobFromImage(L, mean=50, size=(224, 224)))\n",
    "    # (1, 1, 224, 224)\n",
    "    ab = model.forward()\n",
    "    # (1, 2, 56, 56)\n",
    "    c = np.moveaxis(ab.squeeze(), [0], [2])\n",
    "    # (56, 56, 2)\n",
    "    ab_resized = cv2.resize(c, (img.shape[1], img.shape[0]))\n",
    "    colored_lab = cv2.merge([L, ab_resized])\n",
    "    colored_bgr = cv2.cvtColor(colored_lab, cv2.COLOR_LAB2BGR)\n",
    "    colored_bgr = np.clip(colored_bgr, 0, 1)\n",
    "    colored_bgr = (255 * colored_bgr).astype('uint8')\n",
    "    stack = np.hstack((colored_bgr, img))\n",
    "    cv2.imshow('img', stack)\n",
    "    if cv2.waitKey(0) == ord('q'):\n",
    "        break\n",
    "cv2.destroyAllWindows()"
   ]
  },
  {
   "cell_type": "code",
   "execution_count": null,
   "metadata": {},
   "outputs": [],
   "source": []
  },
  {
   "cell_type": "code",
   "execution_count": null,
   "metadata": {},
   "outputs": [],
   "source": []
  },
  {
   "cell_type": "code",
   "execution_count": null,
   "metadata": {},
   "outputs": [],
   "source": []
  },
  {
   "cell_type": "code",
   "execution_count": null,
   "metadata": {},
   "outputs": [],
   "source": []
  }
 ],
 "metadata": {
  "kernelspec": {
   "display_name": "code-surge",
   "language": "python",
   "name": "code-surge"
  },
  "language_info": {
   "codemirror_mode": {
    "name": "ipython",
    "version": 3
   },
   "file_extension": ".py",
   "mimetype": "text/x-python",
   "name": "python",
   "nbconvert_exporter": "python",
   "pygments_lexer": "ipython3",
   "version": "3.8.6"
  }
 },
 "nbformat": 4,
 "nbformat_minor": 2
}
